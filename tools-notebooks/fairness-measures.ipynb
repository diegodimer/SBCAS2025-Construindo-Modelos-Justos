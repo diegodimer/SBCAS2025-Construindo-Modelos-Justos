{
 "cells": [
  {
   "cell_type": "code",
   "execution_count": 1,
   "id": "e5307663",
   "metadata": {},
   "outputs": [],
   "source": [
    "# Clone the repository and set up the required folder structure\n",
    "import os\n",
    "if not os.path.exists('fairnessmeasures'):\n",
    "    !git clone https://github.com/FairnessMeasures/fairness-measures-code fairnessmeasures\n",
    "# fix error in code from pandas update\n",
    "!sed -i.bak 's/result\\.append(df)/result._append(df)/g' fairnessmeasures/src/measures/absolute_measures.py\n"
   ]
  },
  {
   "cell_type": "code",
   "execution_count": 2,
   "id": "1a66cab1",
   "metadata": {},
   "outputs": [],
   "source": [
    "from fairnessmeasures.src.measures.absolute_measures import *\n",
    "from fairnessmeasures.src.measures.statistical_tests import *\n",
    "from fairnessmeasures.src.data_structure.dataset import Dataset\n"
   ]
  },
  {
   "cell_type": "code",
   "execution_count": 3,
   "id": "f7cf5b8c",
   "metadata": {},
   "outputs": [],
   "source": [
    "data = pd.read_csv(\"Heart_Disease_Prediction.csv\")\n",
    "data.target = data.target.map({'Presence': 1, 'Absence': 0})\n",
    "data.rename(columns={\n",
    "    'Sex': 'protected_sex'}, inplace=True)"
   ]
  },
  {
   "cell_type": "code",
   "execution_count": 4,
   "id": "6d8dd76a",
   "metadata": {},
   "outputs": [],
   "source": [
    "def run_demo(filename):\n",
    "    dataset = Dataset(filename)\n",
    "\n",
    "    print('=========== difference of means test =============')\n",
    "    print(t_test_ind(dataset, 'target', 'protected_sex'))\n",
    "\n",
    "    print('\\n=========== mean differences ==============')\n",
    "    print(mean_difference(dataset, 'target', 'protected_sex').T)\n",
    "\n",
    "    print('\\n=========== normalized differences ============')\n",
    "    print(normalized_difference(dataset, 'target', 'protected_sex'))\n",
    "\n",
    "    print('\\n=========== impact ratio ============')\n",
    "    print(impact_ratio(dataset, 'target', 'protected_sex'))\n",
    "\n",
    "    print('\\n=========== odds ratio ============')\n",
    "    print(fisher_exact_two_groups(dataset, 'target', 'protected_sex'))\n"
   ]
  },
  {
   "cell_type": "code",
   "execution_count": 5,
   "id": "8cd0eab5",
   "metadata": {},
   "outputs": [
    {
     "name": "stdout",
     "output_type": "stream",
     "text": [
      "=========== difference of means test =============\n",
      "TtestResult(statistic=np.float64(5.105414033167951), pvalue=np.float64(6.26693794993591e-07), df=np.float64(268.0))\n",
      "\n",
      "=========== mean differences ==============\n",
      "               1\n",
      "target -0.316563\n",
      "\n",
      "=========== normalized differences ============\n",
      "-0.3862068965517242\n",
      "\n",
      "=========== impact ratio ============\n",
      "1.2295081967213117\n",
      "\n",
      "=========== odds ratio ============\n",
      "SignificanceResult(statistic=np.float64(4.036144578313253), pvalue=np.float64(9.524080136454769e-07))\n"
     ]
    }
   ],
   "source": [
    "run_demo(data)"
   ]
  }
 ],
 "metadata": {
  "kernelspec": {
   "display_name": ".venv",
   "language": "python",
   "name": "python3"
  },
  "language_info": {
   "codemirror_mode": {
    "name": "ipython",
    "version": 3
   },
   "file_extension": ".py",
   "mimetype": "text/x-python",
   "name": "python",
   "nbconvert_exporter": "python",
   "pygments_lexer": "ipython3",
   "version": "3.10.12"
  }
 },
 "nbformat": 4,
 "nbformat_minor": 5
}
