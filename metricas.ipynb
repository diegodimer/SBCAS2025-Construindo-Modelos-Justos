{
 "cells": [
  {
   "cell_type": "markdown",
   "id": "b7750fe5",
   "metadata": {},
   "source": [
    "# Métricas de Pré-Treino\n"
   ]
  },
  {
   "cell_type": "code",
   "execution_count": 43,
   "id": "b85df456",
   "metadata": {},
   "outputs": [
    {
     "name": "stderr",
     "output_type": "stream",
     "text": [
      "1111.95s - pydevd: Sending message related to process being replaced timed-out after 5 seconds\n"
     ]
    }
   ],
   "source": [
    "!pip install numpy pandas scikit-learn > /dev/null 2>&1"
   ]
  },
  {
   "cell_type": "code",
   "execution_count": 59,
   "id": "4f73c491",
   "metadata": {},
   "outputs": [
    {
     "data": {
      "text/html": [
       "<div>\n",
       "<style scoped>\n",
       "    .dataframe tbody tr th:only-of-type {\n",
       "        vertical-align: middle;\n",
       "    }\n",
       "\n",
       "    .dataframe tbody tr th {\n",
       "        vertical-align: top;\n",
       "    }\n",
       "\n",
       "    .dataframe thead th {\n",
       "        text-align: right;\n",
       "    }\n",
       "</style>\n",
       "<table border=\"1\" class=\"dataframe\">\n",
       "  <thead>\n",
       "    <tr style=\"text-align: right;\">\n",
       "      <th></th>\n",
       "      <th>age</th>\n",
       "      <th>sex</th>\n",
       "      <th>cp</th>\n",
       "      <th>trestbps</th>\n",
       "      <th>chol</th>\n",
       "      <th>fbs</th>\n",
       "      <th>restecg</th>\n",
       "      <th>thalach</th>\n",
       "      <th>exang</th>\n",
       "      <th>oldpeak</th>\n",
       "      <th>slope</th>\n",
       "      <th>ca</th>\n",
       "      <th>thal</th>\n",
       "      <th>target</th>\n",
       "    </tr>\n",
       "  </thead>\n",
       "  <tbody>\n",
       "    <tr>\n",
       "      <th>0</th>\n",
       "      <td>63</td>\n",
       "      <td>1</td>\n",
       "      <td>3</td>\n",
       "      <td>145</td>\n",
       "      <td>233</td>\n",
       "      <td>1</td>\n",
       "      <td>0</td>\n",
       "      <td>150</td>\n",
       "      <td>0</td>\n",
       "      <td>2.3</td>\n",
       "      <td>0</td>\n",
       "      <td>0</td>\n",
       "      <td>1</td>\n",
       "      <td>1</td>\n",
       "    </tr>\n",
       "    <tr>\n",
       "      <th>1</th>\n",
       "      <td>37</td>\n",
       "      <td>1</td>\n",
       "      <td>2</td>\n",
       "      <td>130</td>\n",
       "      <td>250</td>\n",
       "      <td>0</td>\n",
       "      <td>1</td>\n",
       "      <td>187</td>\n",
       "      <td>0</td>\n",
       "      <td>3.5</td>\n",
       "      <td>0</td>\n",
       "      <td>0</td>\n",
       "      <td>2</td>\n",
       "      <td>1</td>\n",
       "    </tr>\n",
       "    <tr>\n",
       "      <th>2</th>\n",
       "      <td>41</td>\n",
       "      <td>0</td>\n",
       "      <td>1</td>\n",
       "      <td>130</td>\n",
       "      <td>204</td>\n",
       "      <td>0</td>\n",
       "      <td>0</td>\n",
       "      <td>172</td>\n",
       "      <td>0</td>\n",
       "      <td>1.4</td>\n",
       "      <td>2</td>\n",
       "      <td>0</td>\n",
       "      <td>2</td>\n",
       "      <td>1</td>\n",
       "    </tr>\n",
       "    <tr>\n",
       "      <th>3</th>\n",
       "      <td>56</td>\n",
       "      <td>1</td>\n",
       "      <td>1</td>\n",
       "      <td>120</td>\n",
       "      <td>236</td>\n",
       "      <td>0</td>\n",
       "      <td>1</td>\n",
       "      <td>178</td>\n",
       "      <td>0</td>\n",
       "      <td>0.8</td>\n",
       "      <td>2</td>\n",
       "      <td>0</td>\n",
       "      <td>2</td>\n",
       "      <td>1</td>\n",
       "    </tr>\n",
       "    <tr>\n",
       "      <th>4</th>\n",
       "      <td>57</td>\n",
       "      <td>0</td>\n",
       "      <td>0</td>\n",
       "      <td>120</td>\n",
       "      <td>354</td>\n",
       "      <td>0</td>\n",
       "      <td>1</td>\n",
       "      <td>163</td>\n",
       "      <td>1</td>\n",
       "      <td>0.6</td>\n",
       "      <td>2</td>\n",
       "      <td>0</td>\n",
       "      <td>2</td>\n",
       "      <td>1</td>\n",
       "    </tr>\n",
       "  </tbody>\n",
       "</table>\n",
       "</div>"
      ],
      "text/plain": [
       "   age  sex  cp  trestbps  chol  fbs  restecg  thalach  exang  oldpeak  slope  \\\n",
       "0   63    1   3       145   233    1        0      150      0      2.3      0   \n",
       "1   37    1   2       130   250    0        1      187      0      3.5      0   \n",
       "2   41    0   1       130   204    0        0      172      0      1.4      2   \n",
       "3   56    1   1       120   236    0        1      178      0      0.8      2   \n",
       "4   57    0   0       120   354    0        1      163      1      0.6      2   \n",
       "\n",
       "   ca  thal  target  \n",
       "0   0     1       1  \n",
       "1   0     2       1  \n",
       "2   0     2       1  \n",
       "3   0     2       1  \n",
       "4   0     2       1  "
      ]
     },
     "execution_count": 59,
     "metadata": {},
     "output_type": "execute_result"
    }
   ],
   "source": [
    "import numpy as np\n",
    "import pandas as pd\n",
    "np.random.seed(42)  # For reproducibility\n",
    "\n",
    "df = pd.read_csv('datasets/heart.csv')\n",
    "df.head()"
   ]
  },
  {
   "cell_type": "markdown",
   "id": "0746b985",
   "metadata": {},
   "source": [
    "# Class Imbalance"
   ]
  },
  {
   "cell_type": "code",
   "execution_count": 60,
   "id": "2ad471b3",
   "metadata": {},
   "outputs": [],
   "source": [
    "def class_imbalance(data: pd.DataFrame, attribute: str, privileged_class) -> float:\n",
    "    class_counts = data[attribute].value_counts()\n",
    "        \n",
    "    n_a = class_counts[privileged_class]\n",
    "    n_d = class_counts.sum() - n_a\n",
    "    \n",
    "    ci = (n_a - n_d) / (n_a + n_d)\n",
    "    \n",
    "    return ci"
   ]
  },
  {
   "cell_type": "code",
   "execution_count": 61,
   "id": "2e304dc3",
   "metadata": {},
   "outputs": [
    {
     "data": {
      "text/plain": [
       "np.float64(0.6)"
      ]
     },
     "execution_count": 61,
     "metadata": {},
     "output_type": "execute_result"
    }
   ],
   "source": [
    "df_ci = pd.concat([df[df['sex'] == 1].sample(8), df[df['sex'] == 0].sample(2)], ignore_index=True)\n",
    "\n",
    "class_imbalance(df_ci, \"sex\", 1)"
   ]
  },
  {
   "cell_type": "markdown",
   "id": "e88a7017",
   "metadata": {},
   "source": [
    "# KL Divergence"
   ]
  },
  {
   "cell_type": "code",
   "execution_count": 62,
   "id": "f8cb1831",
   "metadata": {},
   "outputs": [],
   "source": [
    "def kl_divergence_from_df(data: pd.DataFrame, target, protected_attr, p, d) -> float:\n",
    "    # número de instancias com sex == 1 e target==1 dividido por instancias com sex == 1\n",
    "    p_p_y1 = (data[(data[protected_attr] == p) & (data[target] == 1)].shape[0]) / (data[data[protected_attr] == p].shape[0])\n",
    "    p_d_y1 = (data[(data[protected_attr] == d) & (data[target] == 1)].shape[0]) / (data[data[protected_attr] == d].shape[0])\n",
    "    p_p_y0 = (data[(data[protected_attr] == p) & (data[target] == 0)].shape[0]) / (data[data[protected_attr] == p].shape[0])\n",
    "    p_d_y0 = (data[(data[protected_attr] == d) & (data[target] == 0)].shape[0]) / (data[data[protected_attr] == d].shape[0])\n",
    "        \n",
    "    # Calcular a divergência KL\n",
    "    return p_p_y1 * np.log(p_p_y1 / p_d_y1) + p_p_y0 * np.log(p_p_y0 / p_d_y0)"
   ]
  },
  {
   "cell_type": "code",
   "execution_count": 63,
   "id": "cabd1baf",
   "metadata": {},
   "outputs": [
    {
     "data": {
      "text/plain": [
       "np.float64(0.5341108087103075)"
      ]
     },
     "execution_count": 63,
     "metadata": {},
     "output_type": "execute_result"
    }
   ],
   "source": [
    "df_only_male = df.loc[df['sex'] == 1]\n",
    "df_only_female = df.loc[df['sex'] == 0]\n",
    "\n",
    "df_mixed = pd.concat(\n",
    "    [\n",
    "        df_only_female.loc[df_only_female[\"target\"] == 1].sample(7),\n",
    "        df_only_female.loc[df_only_female[\"target\"] == 0].sample(3),\n",
    "        df_only_male.loc  [df_only_male  [\"target\"] == 1].sample(2),\n",
    "        df_only_male.loc  [df_only_male  [\"target\"] == 0].sample(8),\n",
    "    ]\n",
    ")\n",
    "\n",
    "kl_divergence_from_df(df_mixed, 'target', 'sex', 1, 0)"
   ]
  },
  {
   "cell_type": "markdown",
   "id": "d18c2a2e",
   "metadata": {},
   "source": [
    "# KS"
   ]
  },
  {
   "cell_type": "code",
   "execution_count": 64,
   "id": "32b4fb32",
   "metadata": {},
   "outputs": [],
   "source": [
    "def ks_test(data: pd.DataFrame, target: str, protected_attr: str, p: int, d: int) -> float:\n",
    "    # Calcular a distribuição acumulada para cada classe\n",
    "    p_dist = data[data[protected_attr] == p][target].value_counts(normalize=True).sort_index().cumsum()\n",
    "    d_dist = data[data[protected_attr] == d][target].value_counts(normalize=True).sort_index().cumsum()\n",
    "    \n",
    "    # Calcular a diferença máxima entre as duas distribuições\n",
    "    return np.max(np.abs(p_dist - d_dist))"
   ]
  },
  {
   "cell_type": "code",
   "execution_count": 65,
   "id": "242ce1da",
   "metadata": {},
   "outputs": [
    {
     "data": {
      "text/plain": [
       "np.float64(0.5)"
      ]
     },
     "execution_count": 65,
     "metadata": {},
     "output_type": "execute_result"
    }
   ],
   "source": [
    "ks_test(df_mixed, 'target', 'sex', 1, 0)"
   ]
  },
  {
   "cell_type": "markdown",
   "id": "270a6602",
   "metadata": {},
   "source": [
    "# CDDL"
   ]
  },
  {
   "cell_type": "code",
   "execution_count": 66,
   "id": "110b5bce",
   "metadata": {},
   "outputs": [],
   "source": [
    "def _divide(a, b) -> float:\n",
    "    if b == 0 and a == 0:\n",
    "        return 0.0\n",
    "    if b == 0:\n",
    "        if a < 0:\n",
    "            return float('-inf')\n",
    "        return float('inf')\n",
    "    return a / b\n",
    "    \n",
    "\n",
    "def CDDL(df: pd.DataFrame, target: str, protected_attribute, privileged_group, group_variable) -> float:\n",
    "    unique_groups = np.unique(df[group_variable])\n",
    "    CDD = np.array([])\n",
    "    counts = np.array([])\n",
    "    for subgroup_variable in unique_groups:\n",
    "        counts = np.append(\n",
    "            counts, (df[group_variable].values == subgroup_variable).sum())\n",
    "        numA = len(df[(df[target] == 0) & (\n",
    "            df[protected_attribute] != privileged_group) & (df[group_variable] == subgroup_variable)])\n",
    "        denomA = len(df[(df[target] == 0) &\n",
    "                        (df[group_variable] == subgroup_variable)])\n",
    "        A = numA / denomA if denomA != 0 else 0\n",
    "        numD = len(df[(df[target] != 0) & (\n",
    "            df[protected_attribute] != privileged_group) & (df[group_variable] == subgroup_variable)])\n",
    "        denomD = len(df[(df[target] != 0) &\n",
    "                        (df[group_variable] == subgroup_variable)])\n",
    "        D = numD / denomD if denomD != 0 else 0\n",
    "        CDD = np.append(CDD, D - A)\n",
    "    return _divide(np.sum(counts * CDD), np.sum(counts))"
   ]
  },
  {
   "cell_type": "code",
   "execution_count": 67,
   "id": "f6c85591",
   "metadata": {},
   "outputs": [
    {
     "name": "stdout",
     "output_type": "stream",
     "text": [
      "CDDL: 0.24\n"
     ]
    }
   ],
   "source": [
    "df_cddl = pd.DataFrame({\n",
    "    \"target\": [1]*4 + [0]*1 + [1]*2 + [0]*3 + [1]*3 + [0]*2 + [1]*1 + [0]*4,\n",
    "    \"sex\": [\"F\"]*10 + [\"M\"]*10,\n",
    "    \"age>20\": [1]*5 + [0]*5 + [1]*5 + [0]*5\n",
    "})\n",
    "\n",
    "cddl_value = CDDL(\n",
    "    df=df_cddl,\n",
    "    target=\"target\",\n",
    "    protected_attribute=\"sex\",\n",
    "    privileged_group=\"M\",\n",
    "    group_variable=\"age>20\"\n",
    ")\n",
    "print(f\"CDDL: {cddl_value:.2f}\")\n"
   ]
  },
  {
   "cell_type": "markdown",
   "id": "923c82dd",
   "metadata": {},
   "source": [
    "# Post-Training"
   ]
  },
  {
   "cell_type": "markdown",
   "id": "e72fe03c",
   "metadata": {},
   "source": [
    "## DPPL"
   ]
  },
  {
   "cell_type": "code",
   "execution_count": 68,
   "id": "6ce166a6",
   "metadata": {},
   "outputs": [],
   "source": [
    "def DPPL(df: pd.DataFrame, target: str, protected_attr:str, privileged_group: str) -> float:\n",
    "    q_p = len(df[(df[target] == 1) & (df[protected_attr] == privileged_group)]) / len(df[df[protected_attr] == privileged_group])\n",
    "    q_d = len(df[(df[target] == 1) & (df[protected_attr] != privileged_group)]) / len(df[df[protected_attr] != privileged_group])\n",
    "\n",
    "    return q_p - q_d"
   ]
  },
  {
   "cell_type": "markdown",
   "id": "cf8deb8a",
   "metadata": {},
   "source": [
    "## DI"
   ]
  },
  {
   "cell_type": "code",
   "execution_count": 69,
   "id": "acdbcd31",
   "metadata": {},
   "outputs": [],
   "source": [
    "def DI(df: pd.DataFrame, target: str, protected_attr:str, privileged_group: str) -> float:\n",
    "    q_p = len(df[(df[target] == 1) & (df[protected_attr] == privileged_group)]) / len(df[df[protected_attr] == privileged_group])\n",
    "    q_d = len(df[(df[target] == 1) & (df[protected_attr] != privileged_group)]) / len(df[df[protected_attr] != privileged_group])\n",
    "\n",
    "    return q_d / q_p"
   ]
  },
  {
   "cell_type": "code",
   "execution_count": 70,
   "id": "adb4d764",
   "metadata": {},
   "outputs": [
    {
     "name": "stdout",
     "output_type": "stream",
     "text": [
      "DPPL: 0.20, DI: 0.71\n"
     ]
    }
   ],
   "source": [
    "men_data = pd.DataFrame({\n",
    "    'sex': [1] * 100,\n",
    "    'target': [1] * 70 + [0] * 30  # 70% negative outcomes, 30% positive outcomes\n",
    "})\n",
    "\n",
    "women_data = pd.DataFrame({\n",
    "    'sex': [0] * 100,\n",
    "    'target': [1] * 50 + [0] * 50  # 50% negative outcomes, 50% positive outcomes\n",
    "})\n",
    "\n",
    "df_dppl = pd.concat([men_data, women_data], ignore_index=True)\n",
    "\n",
    "dppl = DPPL(df_dppl, 'target', 'sex', 1) \n",
    "di = DI(df_dppl, 'target', 'sex', 1) \n",
    "\n",
    "print(f\"DPPL: {dppl:.2f}, DI: {di:.2f}\")\n"
   ]
  },
  {
   "cell_type": "code",
   "execution_count": 72,
   "id": "f84a6b61",
   "metadata": {},
   "outputs": [
    {
     "name": "stdout",
     "output_type": "stream",
     "text": [
      "Recall Diference:  -0.1955211024978466\n",
      "DAR:  -0.2142857142857143\n",
      "DRR:  0.09239130434782605\n"
     ]
    }
   ],
   "source": [
    "from sklearn.linear_model import LogisticRegression\n",
    "from sklearn.metrics import confusion_matrix\n",
    "from sklearn.model_selection import train_test_split\n",
    "\n",
    "X = df.drop(columns=['target'])\n",
    "y = df['target']\n",
    "\n",
    "X_train, X_test, y_train, y_test = train_test_split(X, y, test_size=0.4, random_state=42)\n",
    "model = LogisticRegression(max_iter=10000)\n",
    "\n",
    "model.fit(X_train, y_train)\n",
    "\n",
    "y_pred = model.predict(X_test)\n",
    "cm = confusion_matrix(y_test, y_pred)\n",
    "\n",
    "male_indices = X_test['sex'] == 1\n",
    "female_indices = X_test['sex'] == 0\n",
    "\n",
    "cm_male = confusion_matrix(y_test[male_indices], y_pred[male_indices], labels=[1, 0])\n",
    "cm_female = confusion_matrix(y_test[female_indices], y_pred[female_indices], labels=[1, 0])\n",
    "\n",
    "# print(\"Confusion Matrix for Male:\")\n",
    "# print(cm_male)\n",
    "# print(\"\\nConfusion Matrix for Female:\")\n",
    "# print(cm_female)\n",
    "\n",
    "# true positives for male\n",
    "TPp = cm_male[0][0]\n",
    "FNp = cm_male[0][1]\n",
    "FPp = cm_male[1][0]\n",
    "TNp = cm_male[1][1]\n",
    "recall_male = (TPp / (TPp + FNp))\n",
    "# print(\"TPp: \", TPp)\n",
    "# print(\"FNp:\", FNp)\n",
    "# print(\"FPp:\", FPp)\n",
    "# print(\"TNp:\", TNp)\n",
    "\n",
    "# true positives for female\n",
    "TPd = cm_female[0][0]\n",
    "FNd = cm_female[0][1]\n",
    "FPd = cm_female[1][0]\n",
    "TNd = cm_female[1][1]\n",
    "\n",
    "# print(\"TPd: \", TPd)\n",
    "# print(\"FNd:\", FNd)\n",
    "# print(\"FPd:\", FPd)\n",
    "# print(\"TNd:\", TNd)\n",
    "recall_female = (TPd / (TPd + FNd))\n",
    "\n",
    "# print(\"Recall for Female: \", recall_female)\n",
    "# print(\"Recall for Male: \", recall_male)\n",
    "RD = recall_male - recall_female\n",
    "print(\"Recall Diference: \", RD)\n",
    "\n",
    "DAR = (TPp / (TPp+FPp)) - (TPd / (TPd+FPd))\n",
    "print(\"DAR: \", DAR)\n",
    "\n",
    "DRR = (TNd / (TNd + FNd)) - (TNp / (TNp + FNp))\n",
    "print(\"DRR: \", DRR)"
   ]
  }
 ],
 "metadata": {
  "kernelspec": {
   "display_name": ".venv",
   "language": "python",
   "name": "python3"
  },
  "language_info": {
   "codemirror_mode": {
    "name": "ipython",
    "version": 3
   },
   "file_extension": ".py",
   "mimetype": "text/x-python",
   "name": "python",
   "nbconvert_exporter": "python",
   "pygments_lexer": "ipython3",
   "version": "3.13.2"
  }
 },
 "nbformat": 4,
 "nbformat_minor": 5
}
