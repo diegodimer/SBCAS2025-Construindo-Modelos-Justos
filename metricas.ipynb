{
 "cells": [
  {
   "cell_type": "markdown",
   "id": "b7750fe5",
   "metadata": {},
   "source": [
    "# Métricas de Pré-Treino\n"
   ]
  },
  {
   "cell_type": "code",
   "execution_count": 1,
   "id": "4f73c491",
   "metadata": {},
   "outputs": [
    {
     "data": {
      "text/html": [
       "<div>\n",
       "<style scoped>\n",
       "    .dataframe tbody tr th:only-of-type {\n",
       "        vertical-align: middle;\n",
       "    }\n",
       "\n",
       "    .dataframe tbody tr th {\n",
       "        vertical-align: top;\n",
       "    }\n",
       "\n",
       "    .dataframe thead th {\n",
       "        text-align: right;\n",
       "    }\n",
       "</style>\n",
       "<table border=\"1\" class=\"dataframe\">\n",
       "  <thead>\n",
       "    <tr style=\"text-align: right;\">\n",
       "      <th></th>\n",
       "      <th>age</th>\n",
       "      <th>sex</th>\n",
       "      <th>cp</th>\n",
       "      <th>trestbps</th>\n",
       "      <th>chol</th>\n",
       "      <th>fbs</th>\n",
       "      <th>restecg</th>\n",
       "      <th>thalach</th>\n",
       "      <th>exang</th>\n",
       "      <th>oldpeak</th>\n",
       "      <th>slope</th>\n",
       "      <th>ca</th>\n",
       "      <th>thal</th>\n",
       "      <th>target</th>\n",
       "    </tr>\n",
       "  </thead>\n",
       "  <tbody>\n",
       "    <tr>\n",
       "      <th>0</th>\n",
       "      <td>63</td>\n",
       "      <td>1</td>\n",
       "      <td>3</td>\n",
       "      <td>145</td>\n",
       "      <td>233</td>\n",
       "      <td>1</td>\n",
       "      <td>0</td>\n",
       "      <td>150</td>\n",
       "      <td>0</td>\n",
       "      <td>2.3</td>\n",
       "      <td>0</td>\n",
       "      <td>0</td>\n",
       "      <td>1</td>\n",
       "      <td>1</td>\n",
       "    </tr>\n",
       "    <tr>\n",
       "      <th>1</th>\n",
       "      <td>37</td>\n",
       "      <td>1</td>\n",
       "      <td>2</td>\n",
       "      <td>130</td>\n",
       "      <td>250</td>\n",
       "      <td>0</td>\n",
       "      <td>1</td>\n",
       "      <td>187</td>\n",
       "      <td>0</td>\n",
       "      <td>3.5</td>\n",
       "      <td>0</td>\n",
       "      <td>0</td>\n",
       "      <td>2</td>\n",
       "      <td>1</td>\n",
       "    </tr>\n",
       "    <tr>\n",
       "      <th>2</th>\n",
       "      <td>41</td>\n",
       "      <td>0</td>\n",
       "      <td>1</td>\n",
       "      <td>130</td>\n",
       "      <td>204</td>\n",
       "      <td>0</td>\n",
       "      <td>0</td>\n",
       "      <td>172</td>\n",
       "      <td>0</td>\n",
       "      <td>1.4</td>\n",
       "      <td>2</td>\n",
       "      <td>0</td>\n",
       "      <td>2</td>\n",
       "      <td>1</td>\n",
       "    </tr>\n",
       "    <tr>\n",
       "      <th>3</th>\n",
       "      <td>56</td>\n",
       "      <td>1</td>\n",
       "      <td>1</td>\n",
       "      <td>120</td>\n",
       "      <td>236</td>\n",
       "      <td>0</td>\n",
       "      <td>1</td>\n",
       "      <td>178</td>\n",
       "      <td>0</td>\n",
       "      <td>0.8</td>\n",
       "      <td>2</td>\n",
       "      <td>0</td>\n",
       "      <td>2</td>\n",
       "      <td>1</td>\n",
       "    </tr>\n",
       "    <tr>\n",
       "      <th>4</th>\n",
       "      <td>57</td>\n",
       "      <td>0</td>\n",
       "      <td>0</td>\n",
       "      <td>120</td>\n",
       "      <td>354</td>\n",
       "      <td>0</td>\n",
       "      <td>1</td>\n",
       "      <td>163</td>\n",
       "      <td>1</td>\n",
       "      <td>0.6</td>\n",
       "      <td>2</td>\n",
       "      <td>0</td>\n",
       "      <td>2</td>\n",
       "      <td>1</td>\n",
       "    </tr>\n",
       "  </tbody>\n",
       "</table>\n",
       "</div>"
      ],
      "text/plain": [
       "   age  sex  cp  trestbps  chol  fbs  restecg  thalach  exang  oldpeak  slope  \\\n",
       "0   63    1   3       145   233    1        0      150      0      2.3      0   \n",
       "1   37    1   2       130   250    0        1      187      0      3.5      0   \n",
       "2   41    0   1       130   204    0        0      172      0      1.4      2   \n",
       "3   56    1   1       120   236    0        1      178      0      0.8      2   \n",
       "4   57    0   0       120   354    0        1      163      1      0.6      2   \n",
       "\n",
       "   ca  thal  target  \n",
       "0   0     1       1  \n",
       "1   0     2       1  \n",
       "2   0     2       1  \n",
       "3   0     2       1  \n",
       "4   0     2       1  "
      ]
     },
     "execution_count": 1,
     "metadata": {},
     "output_type": "execute_result"
    }
   ],
   "source": [
    "import numpy as np\n",
    "import pandas as pd\n",
    "df = pd.read_csv('datasets/heart.csv')\n",
    "df.head()"
   ]
  },
  {
   "cell_type": "markdown",
   "id": "0746b985",
   "metadata": {},
   "source": [
    "# Class Imbalance"
   ]
  },
  {
   "cell_type": "code",
   "execution_count": 2,
   "id": "2ad471b3",
   "metadata": {},
   "outputs": [],
   "source": [
    "def class_imbalance(data: pd.DataFrame, attribute: str, privileged_class) -> float:\n",
    "    class_counts = data[attribute].value_counts()\n",
    "        \n",
    "    n_a = class_counts[privileged_class]\n",
    "    n_d = class_counts.sum() - n_a\n",
    "    \n",
    "    ci = (n_a - n_d) / (n_a + n_d)\n",
    "    \n",
    "    return ci"
   ]
  },
  {
   "cell_type": "code",
   "execution_count": 3,
   "id": "2e304dc3",
   "metadata": {},
   "outputs": [
    {
     "data": {
      "text/plain": [
       "0.6"
      ]
     },
     "execution_count": 3,
     "metadata": {},
     "output_type": "execute_result"
    }
   ],
   "source": [
    "df_ci = pd.concat([df[df['sex'] == 1].sample(8), df[df['sex'] == 0].sample(2)], ignore_index=True)\n",
    "\n",
    "class_imbalance(df_ci, \"sex\", 1)"
   ]
  },
  {
   "cell_type": "markdown",
   "id": "e88a7017",
   "metadata": {},
   "source": [
    "# KL Divergence"
   ]
  },
  {
   "cell_type": "code",
   "execution_count": 4,
   "id": "f8cb1831",
   "metadata": {},
   "outputs": [],
   "source": [
    "def kl_divergence_from_df(data: pd.DataFrame, target, protected_attr, p, d) -> float:\n",
    "    # número de instancias com sex == 1 e target==1 dividido por instancias com sex == 1\n",
    "    p_p_y1 = (data[(data[protected_attr] == p) & (data[target] == 1)].shape[0]) / (data[data[protected_attr] == p].shape[0])\n",
    "    p_d_y1 = (data[(data[protected_attr] == d) & (data[target] == 1)].shape[0]) / (data[data[protected_attr] == d].shape[0])\n",
    "    p_p_y0 = (data[(data[protected_attr] == p) & (data[target] == 0)].shape[0]) / (data[data[protected_attr] == p].shape[0])\n",
    "    p_d_y0 = (data[(data[protected_attr] == d) & (data[target] == 0)].shape[0]) / (data[data[protected_attr] == d].shape[0])\n",
    "        \n",
    "    # Calcular a divergência KL\n",
    "    return p_p_y1 * np.log(p_p_y1 / p_d_y1) + p_p_y0 * np.log(p_p_y0 / p_d_y0)"
   ]
  },
  {
   "cell_type": "code",
   "execution_count": 5,
   "id": "cabd1baf",
   "metadata": {},
   "outputs": [],
   "source": [
    "df_only_male = df.loc[df['sex'] == 1]\n",
    "df_only_female = df.loc[df['sex'] == 0]\n"
   ]
  },
  {
   "cell_type": "code",
   "execution_count": 6,
   "id": "7cffd9e7",
   "metadata": {},
   "outputs": [],
   "source": [
    "df_mixed = pd.concat(\n",
    "    [\n",
    "        df_only_female.loc[df_only_female[\"target\"] == 1].sample(7),\n",
    "        df_only_female.loc[df_only_female[\"target\"] == 0].sample(3),\n",
    "        df_only_male.loc  [df_only_male  [\"target\"] == 1].sample(2),\n",
    "        df_only_male.loc  [df_only_male  [\"target\"] == 0].sample(8),\n",
    "    ]\n",
    ")"
   ]
  },
  {
   "cell_type": "code",
   "execution_count": 7,
   "id": "c13f9a98",
   "metadata": {},
   "outputs": [
    {
     "data": {
      "text/plain": [
       "0.5341108087103075"
      ]
     },
     "execution_count": 7,
     "metadata": {},
     "output_type": "execute_result"
    }
   ],
   "source": [
    "kl_divergence_from_df(df_mixed, 'target', 'sex', 1, 0)"
   ]
  },
  {
   "cell_type": "markdown",
   "id": "923c82dd",
   "metadata": {},
   "source": [
    "# Post-Training"
   ]
  },
  {
   "cell_type": "code",
   "execution_count": 56,
   "id": "f84a6b61",
   "metadata": {},
   "outputs": [
    {
     "name": "stdout",
     "output_type": "stream",
     "text": [
      "Confusion Matrix for Male:\n",
      "[[33 10]\n",
      " [ 9 36]]\n",
      "\n",
      "Confusion Matrix for Female:\n",
      "[[26  1]\n",
      " [ 0  7]]\n",
      "TPp:  33\n",
      "FNp: 10\n",
      "FPp: 9\n",
      "TNp: 36\n",
      "TPd:  26\n",
      "FNd: 1\n",
      "FPd: 0\n",
      "TNd: 7\n",
      "Recall for Female:  0.9629629629629629\n",
      "Recall for Male:  0.7674418604651163\n",
      "Recall Diference:  -0.1955211024978466\n",
      "DAR:  -0.2142857142857143\n",
      "DRR:  0.09239130434782605\n"
     ]
    }
   ],
   "source": [
    "from sklearn.linear_model import LogisticRegression\n",
    "from sklearn.metrics import confusion_matrix\n",
    "from sklearn.model_selection import train_test_split\n",
    "\n",
    "X = df.drop(columns=['target'])\n",
    "y = df['target']\n",
    "\n",
    "X_train, X_test, y_train, y_test = train_test_split(X, y, test_size=0.4, random_state=42)\n",
    "model = LogisticRegression(max_iter=10000)\n",
    "\n",
    "model.fit(X_train, y_train)\n",
    "\n",
    "y_pred = model.predict(X_test)\n",
    "cm = confusion_matrix(y_test, y_pred)\n",
    "\n",
    "male_indices = X_test['sex'] == 1\n",
    "female_indices = X_test['sex'] == 0\n",
    "\n",
    "cm_male = confusion_matrix(y_test[male_indices], y_pred[male_indices], labels=[1, 0])\n",
    "cm_female = confusion_matrix(y_test[female_indices], y_pred[female_indices], labels=[1, 0])\n",
    "\n",
    "print(\"Confusion Matrix for Male:\")\n",
    "print(cm_male)\n",
    "print(\"\\nConfusion Matrix for Female:\")\n",
    "print(cm_female)\n",
    "\n",
    "# true positives for male\n",
    "TPp = cm_male[0][0]\n",
    "FNp = cm_male[0][1]\n",
    "FPp = cm_male[1][0]\n",
    "TNp = cm_male[1][1]\n",
    "recall_male = (TPp / (TPp + FNp))\n",
    "print(\"TPp: \", TPp)\n",
    "print(\"FNp:\", FNp)\n",
    "print(\"FPp:\", FPp)\n",
    "print(\"TNp:\", TNp)\n",
    "\n",
    "# true positives for female\n",
    "TPd = cm_female[0][0]\n",
    "FNd = cm_female[0][1]\n",
    "FPd = cm_female[1][0]\n",
    "TNd = cm_female[1][1]\n",
    "\n",
    "print(\"TPd: \", TPd)\n",
    "print(\"FNd:\", FNd)\n",
    "print(\"FPd:\", FPd)\n",
    "print(\"TNd:\", TNd)\n",
    "recall_female = (TPd / (TPd + FNd))\n",
    "\n",
    "print(\"Recall for Female: \", recall_female)\n",
    "print(\"Recall for Male: \", recall_male)\n",
    "RD = recall_male - recall_female\n",
    "print(\"Recall Diference: \", RD)\n",
    "\n",
    "DAR = (TPp / (TPp+FPp)) - (TPd / (TPd+FPd))\n",
    "print(\"DAR: \", DAR)\n",
    "\n",
    "DRR = (TNd / (TNd + FNd)) - (TNp / (TNp + FNp))\n",
    "print(\"DRR: \", DRR)"
   ]
  }
 ],
 "metadata": {
  "kernelspec": {
   "display_name": ".venv",
   "language": "python",
   "name": "python3"
  },
  "language_info": {
   "codemirror_mode": {
    "name": "ipython",
    "version": 3
   },
   "file_extension": ".py",
   "mimetype": "text/x-python",
   "name": "python",
   "nbconvert_exporter": "python",
   "pygments_lexer": "ipython3",
   "version": "3.10.12"
  }
 },
 "nbformat": 4,
 "nbformat_minor": 5
}
